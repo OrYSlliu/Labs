{
  "nbformat": 4,
  "nbformat_minor": 0,
  "metadata": {
    "colab": {
      "provenance": [],
      "include_colab_link": true
    },
    "kernelspec": {
      "name": "python3",
      "display_name": "Python 3"
    },
    "language_info": {
      "name": "python"
    }
  },
  "cells": [
    {
      "cell_type": "markdown",
      "metadata": {
        "id": "view-in-github",
        "colab_type": "text"
      },
      "source": [
        "<a href=\"https://colab.research.google.com/github/OrYSlliu/Labs/blob/main/lab2.ipynb\" target=\"_parent\"><img src=\"https://colab.research.google.com/assets/colab-badge.svg\" alt=\"Open In Colab\"/></a>"
      ]
    },
    {
      "cell_type": "markdown",
      "source": [
        "#Задание по практике 2"
      ],
      "metadata": {
        "id": "_dGfjiUjUNab"
      }
    },
    {
      "cell_type": "code",
      "source": [
        "!pip install pandas\n",
        "!pip install seaborn"
      ],
      "metadata": {
        "id": "wXXP-hXKrxPW",
        "colab": {
          "base_uri": "https://localhost:8080/"
        },
        "outputId": "c14d9b27-329f-4ad7-9d71-4dc92d509e53"
      },
      "execution_count": 2,
      "outputs": [
        {
          "output_type": "stream",
          "name": "stdout",
          "text": [
            "Requirement already satisfied: pandas in /usr/local/lib/python3.10/dist-packages (1.5.3)\n",
            "Requirement already satisfied: python-dateutil>=2.8.1 in /usr/local/lib/python3.10/dist-packages (from pandas) (2.8.2)\n",
            "Requirement already satisfied: pytz>=2020.1 in /usr/local/lib/python3.10/dist-packages (from pandas) (2023.3.post1)\n",
            "Requirement already satisfied: numpy>=1.21.0 in /usr/local/lib/python3.10/dist-packages (from pandas) (1.23.5)\n",
            "Requirement already satisfied: six>=1.5 in /usr/local/lib/python3.10/dist-packages (from python-dateutil>=2.8.1->pandas) (1.16.0)\n",
            "Requirement already satisfied: seaborn in /usr/local/lib/python3.10/dist-packages (0.12.2)\n",
            "Requirement already satisfied: numpy!=1.24.0,>=1.17 in /usr/local/lib/python3.10/dist-packages (from seaborn) (1.23.5)\n",
            "Requirement already satisfied: pandas>=0.25 in /usr/local/lib/python3.10/dist-packages (from seaborn) (1.5.3)\n",
            "Requirement already satisfied: matplotlib!=3.6.1,>=3.1 in /usr/local/lib/python3.10/dist-packages (from seaborn) (3.7.1)\n",
            "Requirement already satisfied: contourpy>=1.0.1 in /usr/local/lib/python3.10/dist-packages (from matplotlib!=3.6.1,>=3.1->seaborn) (1.1.1)\n",
            "Requirement already satisfied: cycler>=0.10 in /usr/local/lib/python3.10/dist-packages (from matplotlib!=3.6.1,>=3.1->seaborn) (0.12.0)\n",
            "Requirement already satisfied: fonttools>=4.22.0 in /usr/local/lib/python3.10/dist-packages (from matplotlib!=3.6.1,>=3.1->seaborn) (4.43.0)\n",
            "Requirement already satisfied: kiwisolver>=1.0.1 in /usr/local/lib/python3.10/dist-packages (from matplotlib!=3.6.1,>=3.1->seaborn) (1.4.5)\n",
            "Requirement already satisfied: packaging>=20.0 in /usr/local/lib/python3.10/dist-packages (from matplotlib!=3.6.1,>=3.1->seaborn) (23.2)\n",
            "Requirement already satisfied: pillow>=6.2.0 in /usr/local/lib/python3.10/dist-packages (from matplotlib!=3.6.1,>=3.1->seaborn) (9.4.0)\n",
            "Requirement already satisfied: pyparsing>=2.3.1 in /usr/local/lib/python3.10/dist-packages (from matplotlib!=3.6.1,>=3.1->seaborn) (3.1.1)\n",
            "Requirement already satisfied: python-dateutil>=2.7 in /usr/local/lib/python3.10/dist-packages (from matplotlib!=3.6.1,>=3.1->seaborn) (2.8.2)\n",
            "Requirement already satisfied: pytz>=2020.1 in /usr/local/lib/python3.10/dist-packages (from pandas>=0.25->seaborn) (2023.3.post1)\n",
            "Requirement already satisfied: six>=1.5 in /usr/local/lib/python3.10/dist-packages (from python-dateutil>=2.7->matplotlib!=3.6.1,>=3.1->seaborn) (1.16.0)\n"
          ]
        }
      ]
    },
    {
      "cell_type": "code",
      "execution_count": 47,
      "metadata": {
        "id": "7u0VPzz-UKNu"
      },
      "outputs": [],
      "source": [
        "import pandas as pd\n",
        "import seaborn as sns\n",
        "import matplotlib.pyplot as plt"
      ]
    },
    {
      "cell_type": "markdown",
      "source": [
        "##Введение в описательную статистику"
      ],
      "metadata": {
        "id": "yKPA-E-VVSS-"
      }
    },
    {
      "cell_type": "markdown",
      "source": [
        "1. Выберите категориальную целевую переменную (**Y**)\n",
        "\n",
        "2. Выберите переменную для анализа относительно категории (**X**)\n",
        "\n",
        "3. Выведитие обобщенную статистическую информацию переменной (**X**)\n",
        "\n",
        "2. Вычислите среднее, медиану, моду, минимум, максимум, стандартное отклонение относительно целевой пременной из файла Classification datasets в соответствии с вашим вариантом\n",
        "\n",
        "3. Сделайте вывод относительно полученных результатов\n",
        "\n",
        "p.s если у вас нет категориальных признаков - преобразуйте любой числовой в категориальный (https://pandas.pydata.org/docs/reference/api/pandas.cut.html). Важно **не** использовать преобразованный Y вместе с этим же X (то есть, если вы преобразовали возраст в категорию, то вы не моежет использовать возраст в качестве X и возраст категорию в качестве Y)"
      ],
      "metadata": {
        "id": "Rrr4WPcGUwOx"
      }
    },
    {
      "cell_type": "code",
      "source": [
        "df = pd.read_csv(\"/content/education_expenditure_supplementary_data.csv\", index_col=None, header=0, engine='python')\n",
        "Y = df['institute_type']\n",
        "X = df['2000']"
      ],
      "metadata": {
        "id": "wZiCpTwgUuYw"
      },
      "execution_count": 21,
      "outputs": []
    },
    {
      "cell_type": "code",
      "source": [
        "describe =  Y.describe()\n",
        "describe"
      ],
      "metadata": {
        "id": "u3OeTGcGp2sY",
        "colab": {
          "base_uri": "https://localhost:8080/"
        },
        "outputId": "d845cb3c-4259-414b-bd39-cb51dbecb3bd"
      },
      "execution_count": 22,
      "outputs": [
        {
          "output_type": "execute_result",
          "data": {
            "text/plain": [
              "count                   333\n",
              "unique                    3\n",
              "top       All Institutions \n",
              "freq                    111\n",
              "Name: institute_type, dtype: object"
            ]
          },
          "metadata": {},
          "execution_count": 22
        }
      ]
    },
    {
      "cell_type": "code",
      "source": [
        "mean = X.mean()\n",
        "mean"
      ],
      "metadata": {
        "id": "ud5DMETOU8hS",
        "colab": {
          "base_uri": "https://localhost:8080/"
        },
        "outputId": "26c04f41-8e11-4e2c-9555-a914402e41d2"
      },
      "execution_count": 23,
      "outputs": [
        {
          "output_type": "execute_result",
          "data": {
            "text/plain": [
              "3.0626262626262624"
            ]
          },
          "metadata": {},
          "execution_count": 23
        }
      ]
    },
    {
      "cell_type": "code",
      "source": [
        "median = X.median()  # (медиана) ваш код здесь\n",
        "median"
      ],
      "metadata": {
        "id": "TVB8P3FDVwxM",
        "colab": {
          "base_uri": "https://localhost:8080/"
        },
        "outputId": "bfcddc71-3a7a-4a84-d12a-22bc9d893cdf"
      },
      "execution_count": 24,
      "outputs": [
        {
          "output_type": "execute_result",
          "data": {
            "text/plain": [
              "3.3"
            ]
          },
          "metadata": {},
          "execution_count": 24
        }
      ]
    },
    {
      "cell_type": "code",
      "source": [
        "mode = X.mode()# (мода) ваш код здесь\n",
        "mode"
      ],
      "metadata": {
        "id": "0xHCgiXCVyhs",
        "colab": {
          "base_uri": "https://localhost:8080/"
        },
        "outputId": "2d4aade6-c37a-4fb1-a2ad-13062745c427"
      },
      "execution_count": 25,
      "outputs": [
        {
          "output_type": "execute_result",
          "data": {
            "text/plain": [
              "0    0.8\n",
              "1    1.0\n",
              "Name: 2000, dtype: float64"
            ]
          },
          "metadata": {},
          "execution_count": 25
        }
      ]
    },
    {
      "cell_type": "code",
      "source": [
        "min = X.min() # (минимум) ваш код здесь\n",
        "min"
      ],
      "metadata": {
        "id": "HprClRfXVzxW",
        "colab": {
          "base_uri": "https://localhost:8080/"
        },
        "outputId": "0eda719f-f81a-49c6-e271-72354115d986"
      },
      "execution_count": 26,
      "outputs": [
        {
          "output_type": "execute_result",
          "data": {
            "text/plain": [
              "0.5"
            ]
          },
          "metadata": {},
          "execution_count": 26
        }
      ]
    },
    {
      "cell_type": "code",
      "source": [
        "max = X.max()# (максимум) ваш код здесь\n",
        "max"
      ],
      "metadata": {
        "id": "sA2gR7IAV1k3",
        "colab": {
          "base_uri": "https://localhost:8080/"
        },
        "outputId": "3068967f-6d77-4d4c-f754-e2c8a1a7bf99"
      },
      "execution_count": 27,
      "outputs": [
        {
          "output_type": "execute_result",
          "data": {
            "text/plain": [
              "6.6"
            ]
          },
          "metadata": {},
          "execution_count": 27
        }
      ]
    },
    {
      "cell_type": "code",
      "source": [
        "std = X.std()# (стандартное отклонение) Ваш код здесь\n",
        "std"
      ],
      "metadata": {
        "id": "BWeXHW3Vovz4",
        "colab": {
          "base_uri": "https://localhost:8080/"
        },
        "outputId": "9b211f6d-f511-4c3a-c324-a27b594d2db4"
      },
      "execution_count": 28,
      "outputs": [
        {
          "output_type": "execute_result",
          "data": {
            "text/plain": [
              "1.7254745492529187"
            ]
          },
          "metadata": {},
          "execution_count": 28
        }
      ]
    },
    {
      "cell_type": "markdown",
      "source": [
        "Вычислите следующие квантили: 25%, 50% (медиана), 75% для числового признака вашего датасета. Затем найдите интерквартильный размах."
      ],
      "metadata": {
        "id": "dZEVd9QIVMyV"
      }
    },
    {
      "cell_type": "code",
      "source": [
        "q1 = X.quantile(0.25)# (25% квантиль) ваш код здесь\n",
        "q1"
      ],
      "metadata": {
        "id": "2UMcBq9dVbVE",
        "colab": {
          "base_uri": "https://localhost:8080/"
        },
        "outputId": "b0a2565f-3f37-4c99-aee2-441cd70ae786"
      },
      "execution_count": 29,
      "outputs": [
        {
          "output_type": "execute_result",
          "data": {
            "text/plain": [
              "1.2"
            ]
          },
          "metadata": {},
          "execution_count": 29
        }
      ]
    },
    {
      "cell_type": "code",
      "source": [
        "q2 = X.quantile(0.5) # (50% квантиль) ваш код здесь\n",
        "q2"
      ],
      "metadata": {
        "id": "8joJvKduWJsC",
        "colab": {
          "base_uri": "https://localhost:8080/"
        },
        "outputId": "bf4e96af-5bc4-4252-d280-3e6ab6b0bd11"
      },
      "execution_count": 30,
      "outputs": [
        {
          "output_type": "execute_result",
          "data": {
            "text/plain": [
              "3.3"
            ]
          },
          "metadata": {},
          "execution_count": 30
        }
      ]
    },
    {
      "cell_type": "code",
      "source": [
        "q3 = X.quantile(0.75)# (75% квантиль) ваш код здесь\n",
        "q3"
      ],
      "metadata": {
        "id": "pQTQqM3GWLOV",
        "colab": {
          "base_uri": "https://localhost:8080/"
        },
        "outputId": "221a7bcf-d1d3-4d53-d7d3-a2d43461aedf"
      },
      "execution_count": 31,
      "outputs": [
        {
          "output_type": "execute_result",
          "data": {
            "text/plain": [
              "4.35"
            ]
          },
          "metadata": {},
          "execution_count": 31
        }
      ]
    },
    {
      "cell_type": "markdown",
      "source": [],
      "metadata": {
        "id": "SAW8DnnK9kCL"
      }
    },
    {
      "cell_type": "code",
      "source": [
        "iqr = q3 - q1# (интерквартильный размах) ваш код здесь\n",
        "iqr"
      ],
      "metadata": {
        "id": "lAwZHIbfWMmH",
        "colab": {
          "base_uri": "https://localhost:8080/"
        },
        "outputId": "87f1b6dc-ad2f-4162-cd5b-c33012609475"
      },
      "execution_count": 32,
      "outputs": [
        {
          "output_type": "execute_result",
          "data": {
            "text/plain": [
              "3.1499999999999995"
            ]
          },
          "metadata": {},
          "execution_count": 32
        }
      ]
    },
    {
      "cell_type": "markdown",
      "source": [
        "Какие выводы можно сделать исходя из полученных статистических данных?"
      ],
      "metadata": {
        "id": "vm0-5sY4WX2I"
      }
    },
    {
      "cell_type": "markdown",
      "source": [
        "**Ответ здесь**\n",
        "\n",
        "```\n",
        "\n",
        "```\n"
      ],
      "metadata": {
        "id": "OnO1hVGyWe8D"
      }
    },
    {
      "cell_type": "markdown",
      "source": [
        "##Основы визуализации"
      ],
      "metadata": {
        "id": "zDISZbQVWk6m"
      }
    },
    {
      "cell_type": "markdown",
      "source": [
        " Постройте гистограмму переменной (X) относительно категориального признака (Y) из своего датасета."
      ],
      "metadata": {
        "id": "aU8cakZvZBuj"
      }
    },
    {
      "cell_type": "code",
      "source": [
        "import plotly.express as plot"
      ],
      "metadata": {
        "id": "venBo7-3CIwV"
      },
      "execution_count": 44,
      "outputs": []
    },
    {
      "cell_type": "code",
      "source": [
        "gr = plot.histogram(x = X, y = Y)\n",
        "gr.show()"
      ],
      "metadata": {
        "id": "9-KTIzdfZLmP",
        "colab": {
          "base_uri": "https://localhost:8080/",
          "height": 542
        },
        "outputId": "0a8e10f5-2fd0-48b8-bbc7-15e8fa189aaa"
      },
      "execution_count": 45,
      "outputs": [
        {
          "output_type": "display_data",
          "data": {
            "text/html": [
              "<html>\n",
              "<head><meta charset=\"utf-8\" /></head>\n",
              "<body>\n",
              "    <div>            <script src=\"https://cdnjs.cloudflare.com/ajax/libs/mathjax/2.7.5/MathJax.js?config=TeX-AMS-MML_SVG\"></script><script type=\"text/javascript\">if (window.MathJax && window.MathJax.Hub && window.MathJax.Hub.Config) {window.MathJax.Hub.Config({SVG: {font: \"STIX-Web\"}});}</script>                <script type=\"text/javascript\">window.PlotlyConfig = {MathJaxConfig: 'local'};</script>\n",
              "        <script charset=\"utf-8\" src=\"https://cdn.plot.ly/plotly-2.24.1.min.js\"></script>                <div id=\"323cea24-1168-4559-8d36-2cbbd98ceb6a\" class=\"plotly-graph-div\" style=\"height:525px; width:100%;\"></div>            <script type=\"text/javascript\">                                    window.PLOTLYENV=window.PLOTLYENV || {};                                    if (document.getElementById(\"323cea24-1168-4559-8d36-2cbbd98ceb6a\")) {                    Plotly.newPlot(                        \"323cea24-1168-4559-8d36-2cbbd98ceb6a\",                        [{\"alignmentgroup\":\"True\",\"bingroup\":\"y\",\"histfunc\":\"sum\",\"hovertemplate\":\"sum of x=%{x}\\u003cbr\\u003ey=%{y}\\u003cextra\\u003e\\u003c\\u002fextra\\u003e\",\"legendgroup\":\"\",\"marker\":{\"color\":\"#636efa\",\"pattern\":{\"shape\":\"\"}},\"name\":\"\",\"offsetgroup\":\"\",\"orientation\":\"h\",\"showlegend\":false,\"x\":[4.9,4.6,5.4,5.1,5.2,4.2,4.2,6.4,null,5.5,5.7,4.3,3.7,4.4,5.7,4.1,6.6,4.5,3.5,4.3,null,4.7,4.3,5.8,5.8,5.2,5.6,4.0,null,4.3,6.3,5.3,3.4,4.5,4.6,null,3.0,3.4,3.7,3.7,3.4,3.3,3.2,2.8,4.1,null,3.5,4.0,2.9,2.7,2.8,4.6,2.9,4.5,3.2,2.7,3.3,null,3.3,3.0,4.6,3.6,3.7,4.1,2.7,null,3.1,4.4,3.8,2.4,3.4,3.5,null,1.7,1.0,0.8,1.2,1.2,1.6,0.6,0.8,1.5,null,1.7,1.0,1.0,0.9,0.9,0.8,1.2,1.1,0.7,0.5,0.6,null,0.8,1.0,0.9,1.2,0.8,1.0,0.7,null,0.9,1.5,1.2,1.0,0.7,0.8,null,0.5,null,null,null,null,null,null,null,null,null,null,null,null,null,null,null,null,null,null,null,null,null,null,null,null,null,null,null,null,null,null,null,null,null,null,null,null,null,null,null,null,null,null,null,null,null,null,null,null,null,null,null,null,null,null,null,null,null,null,null,null,null,null,null,null,null,null,null,null,null,null,null,null,null,null,null,null,null,null,null,null,null,null,null,null,null,null,null,null,null,null,null,null,null,null,null,null,null,null,null,null,null,null,null,null,null,null,null,null,null,null,null,null,null,null,null,null,null,null,null,null,null,null,null,null,null,null,null,null,null,null,null,null,null,null,null,null,null,null,null,null,null,null,null,null,null,null,null,null,null,null,null,null,null,null,null,null,null,null,null,null,null,null,null,null,null,null,null,null,null,null,null,null,null,null,null,null,null,null,null,null,null,null,null,null,null,null,null,null,null,null,null,null,null,null,null,null,null,null,null,null,null,null,null,null,null,null,null,null,null,null,null,null,null,null,null,null,null,null,null,null,null,null],\"xaxis\":\"x\",\"y\":[\"All Institutions \",\"All Institutions \",\"All Institutions \",\"All Institutions \",\"All Institutions \",\"All Institutions \",\"All Institutions \",\"All Institutions \",\"All Institutions \",\"All Institutions \",\"All Institutions \",\"All Institutions \",\"All Institutions \",\"All Institutions \",\"All Institutions \",\"All Institutions \",\"All Institutions \",\"All Institutions \",\"All Institutions \",\"All Institutions \",\"All Institutions \",\"All Institutions \",\"All Institutions \",\"All Institutions \",\"All Institutions \",\"All Institutions \",\"All Institutions \",\"All Institutions \",\"All Institutions \",\"All Institutions \",\"All Institutions \",\"All Institutions \",\"All Institutions \",\"All Institutions \",\"All Institutions \",\"All Institutions \",\"All Institutions \",\"Elementary and Secondary Institutions \",\"Elementary and Secondary Institutions \",\"Elementary and Secondary Institutions \",\"Elementary and Secondary Institutions \",\"Elementary and Secondary Institutions \",\"Elementary and Secondary Institutions \",\"Elementary and Secondary Institutions \",\"Elementary and Secondary Institutions \",\"Elementary and Secondary Institutions \",\"Elementary and Secondary Institutions \",\"Elementary and Secondary Institutions \",\"Elementary and Secondary Institutions \",\"Elementary and Secondary Institutions \",\"Elementary and Secondary Institutions \",\"Elementary and Secondary Institutions \",\"Elementary and Secondary Institutions \",\"Elementary and Secondary Institutions \",\"Elementary and Secondary Institutions \",\"Elementary and Secondary Institutions \",\"Elementary and Secondary Institutions \",\"Elementary and Secondary Institutions \",\"Elementary and Secondary Institutions \",\"Elementary and Secondary Institutions \",\"Elementary and Secondary Institutions \",\"Elementary and Secondary Institutions \",\"Elementary and Secondary Institutions \",\"Elementary and Secondary Institutions \",\"Elementary and Secondary Institutions \",\"Elementary and Secondary Institutions \",\"Elementary and Secondary Institutions \",\"Elementary and Secondary Institutions \",\"Elementary and Secondary Institutions \",\"Elementary and Secondary Institutions \",\"Elementary and Secondary Institutions \",\"Elementary and Secondary Institutions \",\"Elementary and Secondary Institutions \",\"Elementary and Secondary Institutions \",\"Higher Education Institutions \",\"Higher Education Institutions \",\"Higher Education Institutions \",\"Higher Education Institutions \",\"Higher Education Institutions \",\"Higher Education Institutions \",\"Higher Education Institutions \",\"Higher Education Institutions \",\"Higher Education Institutions \",\"Higher Education Institutions \",\"Higher Education Institutions \",\"Higher Education Institutions \",\"Higher Education Institutions \",\"Higher Education Institutions \",\"Higher Education Institutions \",\"Higher Education Institutions \",\"Higher Education Institutions \",\"Higher Education Institutions \",\"Higher Education Institutions \",\"Higher Education Institutions \",\"Higher Education Institutions \",\"Higher Education Institutions \",\"Higher Education Institutions \",\"Higher Education Institutions \",\"Higher Education Institutions \",\"Higher Education Institutions \",\"Higher Education Institutions \",\"Higher Education Institutions \",\"Higher Education Institutions \",\"Higher Education Institutions \",\"Higher Education Institutions \",\"Higher Education Institutions \",\"Higher Education Institutions \",\"Higher Education Institutions \",\"Higher Education Institutions \",\"Higher Education Institutions \",\"Higher Education Institutions \",\"All Institutions \",\"All Institutions \",\"All Institutions \",\"All Institutions \",\"All Institutions \",\"All Institutions \",\"All Institutions \",\"All Institutions \",\"All Institutions \",\"All Institutions \",\"All Institutions \",\"All Institutions \",\"All Institutions \",\"All Institutions \",\"All Institutions \",\"All Institutions \",\"All Institutions \",\"All Institutions \",\"All Institutions \",\"All Institutions \",\"All Institutions \",\"All Institutions \",\"All Institutions \",\"All Institutions \",\"All Institutions \",\"All Institutions \",\"All Institutions \",\"All Institutions \",\"All Institutions \",\"All Institutions \",\"All Institutions \",\"All Institutions \",\"All Institutions \",\"All Institutions \",\"All Institutions \",\"All Institutions \",\"All Institutions \",\"Elementary and Secondary Institutions \",\"Elementary and Secondary Institutions \",\"Elementary and Secondary Institutions \",\"Elementary and Secondary Institutions \",\"Elementary and Secondary Institutions \",\"Elementary and Secondary Institutions \",\"Elementary and Secondary Institutions \",\"Elementary and Secondary Institutions \",\"Elementary and Secondary Institutions \",\"Elementary and Secondary Institutions \",\"Elementary and Secondary Institutions \",\"Elementary and Secondary Institutions \",\"Elementary and Secondary Institutions \",\"Elementary and Secondary Institutions \",\"Elementary and Secondary Institutions \",\"Elementary and Secondary Institutions \",\"Elementary and Secondary Institutions \",\"Elementary and Secondary Institutions \",\"Elementary and Secondary Institutions \",\"Elementary and Secondary Institutions \",\"Elementary and Secondary Institutions \",\"Elementary and Secondary Institutions \",\"Elementary and Secondary Institutions \",\"Elementary and Secondary Institutions \",\"Elementary and Secondary Institutions \",\"Elementary and Secondary Institutions \",\"Elementary and Secondary Institutions \",\"Elementary and Secondary Institutions \",\"Elementary and Secondary Institutions \",\"Elementary and Secondary Institutions \",\"Elementary and Secondary Institutions \",\"Elementary and Secondary Institutions \",\"Elementary and Secondary Institutions \",\"Elementary and Secondary Institutions \",\"Elementary and Secondary Institutions \",\"Elementary and Secondary Institutions \",\"Elementary and Secondary Institutions \",\"Higher Education Institutions \",\"Higher Education Institutions \",\"Higher Education Institutions \",\"Higher Education Institutions \",\"Higher Education Institutions \",\"Higher Education Institutions \",\"Higher Education Institutions \",\"Higher Education Institutions \",\"Higher Education Institutions \",\"Higher Education Institutions \",\"Higher Education Institutions \",\"Higher Education Institutions \",\"Higher Education Institutions \",\"Higher Education Institutions \",\"Higher Education Institutions \",\"Higher Education Institutions \",\"Higher Education Institutions \",\"Higher Education Institutions \",\"Higher Education Institutions \",\"Higher Education Institutions \",\"Higher Education Institutions \",\"Higher Education Institutions \",\"Higher Education Institutions \",\"Higher Education Institutions \",\"Higher Education Institutions \",\"Higher Education Institutions \",\"Higher Education Institutions \",\"Higher Education Institutions \",\"Higher Education Institutions \",\"Higher Education Institutions \",\"Higher Education Institutions \",\"Higher Education Institutions \",\"Higher Education Institutions \",\"Higher Education Institutions \",\"Higher Education Institutions \",\"Higher Education Institutions \",\"Higher Education Institutions \",\"All Institutions \",\"All Institutions \",\"All Institutions \",\"All Institutions \",\"All Institutions \",\"All Institutions \",\"All Institutions \",\"All Institutions \",\"All Institutions \",\"All Institutions \",\"All Institutions \",\"All Institutions \",\"All Institutions \",\"All Institutions \",\"All Institutions \",\"All Institutions \",\"All Institutions \",\"All Institutions \",\"All Institutions \",\"All Institutions \",\"All Institutions \",\"All Institutions \",\"All Institutions \",\"All Institutions \",\"All Institutions \",\"All Institutions \",\"All Institutions \",\"All Institutions \",\"All Institutions \",\"All Institutions \",\"All Institutions \",\"All Institutions \",\"All Institutions \",\"All Institutions \",\"All Institutions \",\"All Institutions \",\"All Institutions \",\"Elementary and Secondary Institutions \",\"Elementary and Secondary Institutions \",\"Elementary and Secondary Institutions \",\"Elementary and Secondary Institutions \",\"Elementary and Secondary Institutions \",\"Elementary and Secondary Institutions \",\"Elementary and Secondary Institutions \",\"Elementary and Secondary Institutions \",\"Elementary and Secondary Institutions \",\"Elementary and Secondary Institutions \",\"Elementary and Secondary Institutions \",\"Elementary and Secondary Institutions \",\"Elementary and Secondary Institutions \",\"Elementary and Secondary Institutions \",\"Elementary and Secondary Institutions \",\"Elementary and Secondary Institutions \",\"Elementary and Secondary Institutions \",\"Elementary and Secondary Institutions \",\"Elementary and Secondary Institutions \",\"Elementary and Secondary Institutions \",\"Elementary and Secondary Institutions \",\"Elementary and Secondary Institutions \",\"Elementary and Secondary Institutions \",\"Elementary and Secondary Institutions \",\"Elementary and Secondary Institutions \",\"Elementary and Secondary Institutions \",\"Elementary and Secondary Institutions \",\"Elementary and Secondary Institutions \",\"Elementary and Secondary Institutions \",\"Elementary and Secondary Institutions \",\"Elementary and Secondary Institutions \",\"Elementary and Secondary Institutions \",\"Elementary and Secondary Institutions \",\"Elementary and Secondary Institutions \",\"Elementary and Secondary Institutions \",\"Elementary and Secondary Institutions \",\"Elementary and Secondary Institutions \",\"Higher Education Institutions \",\"Higher Education Institutions \",\"Higher Education Institutions \",\"Higher Education Institutions \",\"Higher Education Institutions \",\"Higher Education Institutions \",\"Higher Education Institutions \",\"Higher Education Institutions \",\"Higher Education Institutions \",\"Higher Education Institutions \",\"Higher Education Institutions \",\"Higher Education Institutions \",\"Higher Education Institutions \",\"Higher Education Institutions \",\"Higher Education Institutions \",\"Higher Education Institutions \",\"Higher Education Institutions \",\"Higher Education Institutions \",\"Higher Education Institutions \",\"Higher Education Institutions \",\"Higher Education Institutions \",\"Higher Education Institutions \",\"Higher Education Institutions \",\"Higher Education Institutions \",\"Higher Education Institutions \",\"Higher Education Institutions \",\"Higher Education Institutions \",\"Higher Education Institutions \",\"Higher Education Institutions \",\"Higher Education Institutions \",\"Higher Education Institutions \",\"Higher Education Institutions \",\"Higher Education Institutions \",\"Higher Education Institutions \",\"Higher Education Institutions \",\"Higher Education Institutions \",\"Higher Education Institutions \"],\"yaxis\":\"y\",\"type\":\"histogram\"}],                        {\"template\":{\"data\":{\"histogram2dcontour\":[{\"type\":\"histogram2dcontour\",\"colorbar\":{\"outlinewidth\":0,\"ticks\":\"\"},\"colorscale\":[[0.0,\"#0d0887\"],[0.1111111111111111,\"#46039f\"],[0.2222222222222222,\"#7201a8\"],[0.3333333333333333,\"#9c179e\"],[0.4444444444444444,\"#bd3786\"],[0.5555555555555556,\"#d8576b\"],[0.6666666666666666,\"#ed7953\"],[0.7777777777777778,\"#fb9f3a\"],[0.8888888888888888,\"#fdca26\"],[1.0,\"#f0f921\"]]}],\"choropleth\":[{\"type\":\"choropleth\",\"colorbar\":{\"outlinewidth\":0,\"ticks\":\"\"}}],\"histogram2d\":[{\"type\":\"histogram2d\",\"colorbar\":{\"outlinewidth\":0,\"ticks\":\"\"},\"colorscale\":[[0.0,\"#0d0887\"],[0.1111111111111111,\"#46039f\"],[0.2222222222222222,\"#7201a8\"],[0.3333333333333333,\"#9c179e\"],[0.4444444444444444,\"#bd3786\"],[0.5555555555555556,\"#d8576b\"],[0.6666666666666666,\"#ed7953\"],[0.7777777777777778,\"#fb9f3a\"],[0.8888888888888888,\"#fdca26\"],[1.0,\"#f0f921\"]]}],\"heatmap\":[{\"type\":\"heatmap\",\"colorbar\":{\"outlinewidth\":0,\"ticks\":\"\"},\"colorscale\":[[0.0,\"#0d0887\"],[0.1111111111111111,\"#46039f\"],[0.2222222222222222,\"#7201a8\"],[0.3333333333333333,\"#9c179e\"],[0.4444444444444444,\"#bd3786\"],[0.5555555555555556,\"#d8576b\"],[0.6666666666666666,\"#ed7953\"],[0.7777777777777778,\"#fb9f3a\"],[0.8888888888888888,\"#fdca26\"],[1.0,\"#f0f921\"]]}],\"heatmapgl\":[{\"type\":\"heatmapgl\",\"colorbar\":{\"outlinewidth\":0,\"ticks\":\"\"},\"colorscale\":[[0.0,\"#0d0887\"],[0.1111111111111111,\"#46039f\"],[0.2222222222222222,\"#7201a8\"],[0.3333333333333333,\"#9c179e\"],[0.4444444444444444,\"#bd3786\"],[0.5555555555555556,\"#d8576b\"],[0.6666666666666666,\"#ed7953\"],[0.7777777777777778,\"#fb9f3a\"],[0.8888888888888888,\"#fdca26\"],[1.0,\"#f0f921\"]]}],\"contourcarpet\":[{\"type\":\"contourcarpet\",\"colorbar\":{\"outlinewidth\":0,\"ticks\":\"\"}}],\"contour\":[{\"type\":\"contour\",\"colorbar\":{\"outlinewidth\":0,\"ticks\":\"\"},\"colorscale\":[[0.0,\"#0d0887\"],[0.1111111111111111,\"#46039f\"],[0.2222222222222222,\"#7201a8\"],[0.3333333333333333,\"#9c179e\"],[0.4444444444444444,\"#bd3786\"],[0.5555555555555556,\"#d8576b\"],[0.6666666666666666,\"#ed7953\"],[0.7777777777777778,\"#fb9f3a\"],[0.8888888888888888,\"#fdca26\"],[1.0,\"#f0f921\"]]}],\"surface\":[{\"type\":\"surface\",\"colorbar\":{\"outlinewidth\":0,\"ticks\":\"\"},\"colorscale\":[[0.0,\"#0d0887\"],[0.1111111111111111,\"#46039f\"],[0.2222222222222222,\"#7201a8\"],[0.3333333333333333,\"#9c179e\"],[0.4444444444444444,\"#bd3786\"],[0.5555555555555556,\"#d8576b\"],[0.6666666666666666,\"#ed7953\"],[0.7777777777777778,\"#fb9f3a\"],[0.8888888888888888,\"#fdca26\"],[1.0,\"#f0f921\"]]}],\"mesh3d\":[{\"type\":\"mesh3d\",\"colorbar\":{\"outlinewidth\":0,\"ticks\":\"\"}}],\"scatter\":[{\"fillpattern\":{\"fillmode\":\"overlay\",\"size\":10,\"solidity\":0.2},\"type\":\"scatter\"}],\"parcoords\":[{\"type\":\"parcoords\",\"line\":{\"colorbar\":{\"outlinewidth\":0,\"ticks\":\"\"}}}],\"scatterpolargl\":[{\"type\":\"scatterpolargl\",\"marker\":{\"colorbar\":{\"outlinewidth\":0,\"ticks\":\"\"}}}],\"bar\":[{\"error_x\":{\"color\":\"#2a3f5f\"},\"error_y\":{\"color\":\"#2a3f5f\"},\"marker\":{\"line\":{\"color\":\"#E5ECF6\",\"width\":0.5},\"pattern\":{\"fillmode\":\"overlay\",\"size\":10,\"solidity\":0.2}},\"type\":\"bar\"}],\"scattergeo\":[{\"type\":\"scattergeo\",\"marker\":{\"colorbar\":{\"outlinewidth\":0,\"ticks\":\"\"}}}],\"scatterpolar\":[{\"type\":\"scatterpolar\",\"marker\":{\"colorbar\":{\"outlinewidth\":0,\"ticks\":\"\"}}}],\"histogram\":[{\"marker\":{\"pattern\":{\"fillmode\":\"overlay\",\"size\":10,\"solidity\":0.2}},\"type\":\"histogram\"}],\"scattergl\":[{\"type\":\"scattergl\",\"marker\":{\"colorbar\":{\"outlinewidth\":0,\"ticks\":\"\"}}}],\"scatter3d\":[{\"type\":\"scatter3d\",\"line\":{\"colorbar\":{\"outlinewidth\":0,\"ticks\":\"\"}},\"marker\":{\"colorbar\":{\"outlinewidth\":0,\"ticks\":\"\"}}}],\"scattermapbox\":[{\"type\":\"scattermapbox\",\"marker\":{\"colorbar\":{\"outlinewidth\":0,\"ticks\":\"\"}}}],\"scatterternary\":[{\"type\":\"scatterternary\",\"marker\":{\"colorbar\":{\"outlinewidth\":0,\"ticks\":\"\"}}}],\"scattercarpet\":[{\"type\":\"scattercarpet\",\"marker\":{\"colorbar\":{\"outlinewidth\":0,\"ticks\":\"\"}}}],\"carpet\":[{\"aaxis\":{\"endlinecolor\":\"#2a3f5f\",\"gridcolor\":\"white\",\"linecolor\":\"white\",\"minorgridcolor\":\"white\",\"startlinecolor\":\"#2a3f5f\"},\"baxis\":{\"endlinecolor\":\"#2a3f5f\",\"gridcolor\":\"white\",\"linecolor\":\"white\",\"minorgridcolor\":\"white\",\"startlinecolor\":\"#2a3f5f\"},\"type\":\"carpet\"}],\"table\":[{\"cells\":{\"fill\":{\"color\":\"#EBF0F8\"},\"line\":{\"color\":\"white\"}},\"header\":{\"fill\":{\"color\":\"#C8D4E3\"},\"line\":{\"color\":\"white\"}},\"type\":\"table\"}],\"barpolar\":[{\"marker\":{\"line\":{\"color\":\"#E5ECF6\",\"width\":0.5},\"pattern\":{\"fillmode\":\"overlay\",\"size\":10,\"solidity\":0.2}},\"type\":\"barpolar\"}],\"pie\":[{\"automargin\":true,\"type\":\"pie\"}]},\"layout\":{\"autotypenumbers\":\"strict\",\"colorway\":[\"#636efa\",\"#EF553B\",\"#00cc96\",\"#ab63fa\",\"#FFA15A\",\"#19d3f3\",\"#FF6692\",\"#B6E880\",\"#FF97FF\",\"#FECB52\"],\"font\":{\"color\":\"#2a3f5f\"},\"hovermode\":\"closest\",\"hoverlabel\":{\"align\":\"left\"},\"paper_bgcolor\":\"white\",\"plot_bgcolor\":\"#E5ECF6\",\"polar\":{\"bgcolor\":\"#E5ECF6\",\"angularaxis\":{\"gridcolor\":\"white\",\"linecolor\":\"white\",\"ticks\":\"\"},\"radialaxis\":{\"gridcolor\":\"white\",\"linecolor\":\"white\",\"ticks\":\"\"}},\"ternary\":{\"bgcolor\":\"#E5ECF6\",\"aaxis\":{\"gridcolor\":\"white\",\"linecolor\":\"white\",\"ticks\":\"\"},\"baxis\":{\"gridcolor\":\"white\",\"linecolor\":\"white\",\"ticks\":\"\"},\"caxis\":{\"gridcolor\":\"white\",\"linecolor\":\"white\",\"ticks\":\"\"}},\"coloraxis\":{\"colorbar\":{\"outlinewidth\":0,\"ticks\":\"\"}},\"colorscale\":{\"sequential\":[[0.0,\"#0d0887\"],[0.1111111111111111,\"#46039f\"],[0.2222222222222222,\"#7201a8\"],[0.3333333333333333,\"#9c179e\"],[0.4444444444444444,\"#bd3786\"],[0.5555555555555556,\"#d8576b\"],[0.6666666666666666,\"#ed7953\"],[0.7777777777777778,\"#fb9f3a\"],[0.8888888888888888,\"#fdca26\"],[1.0,\"#f0f921\"]],\"sequentialminus\":[[0.0,\"#0d0887\"],[0.1111111111111111,\"#46039f\"],[0.2222222222222222,\"#7201a8\"],[0.3333333333333333,\"#9c179e\"],[0.4444444444444444,\"#bd3786\"],[0.5555555555555556,\"#d8576b\"],[0.6666666666666666,\"#ed7953\"],[0.7777777777777778,\"#fb9f3a\"],[0.8888888888888888,\"#fdca26\"],[1.0,\"#f0f921\"]],\"diverging\":[[0,\"#8e0152\"],[0.1,\"#c51b7d\"],[0.2,\"#de77ae\"],[0.3,\"#f1b6da\"],[0.4,\"#fde0ef\"],[0.5,\"#f7f7f7\"],[0.6,\"#e6f5d0\"],[0.7,\"#b8e186\"],[0.8,\"#7fbc41\"],[0.9,\"#4d9221\"],[1,\"#276419\"]]},\"xaxis\":{\"gridcolor\":\"white\",\"linecolor\":\"white\",\"ticks\":\"\",\"title\":{\"standoff\":15},\"zerolinecolor\":\"white\",\"automargin\":true,\"zerolinewidth\":2},\"yaxis\":{\"gridcolor\":\"white\",\"linecolor\":\"white\",\"ticks\":\"\",\"title\":{\"standoff\":15},\"zerolinecolor\":\"white\",\"automargin\":true,\"zerolinewidth\":2},\"scene\":{\"xaxis\":{\"backgroundcolor\":\"#E5ECF6\",\"gridcolor\":\"white\",\"linecolor\":\"white\",\"showbackground\":true,\"ticks\":\"\",\"zerolinecolor\":\"white\",\"gridwidth\":2},\"yaxis\":{\"backgroundcolor\":\"#E5ECF6\",\"gridcolor\":\"white\",\"linecolor\":\"white\",\"showbackground\":true,\"ticks\":\"\",\"zerolinecolor\":\"white\",\"gridwidth\":2},\"zaxis\":{\"backgroundcolor\":\"#E5ECF6\",\"gridcolor\":\"white\",\"linecolor\":\"white\",\"showbackground\":true,\"ticks\":\"\",\"zerolinecolor\":\"white\",\"gridwidth\":2}},\"shapedefaults\":{\"line\":{\"color\":\"#2a3f5f\"}},\"annotationdefaults\":{\"arrowcolor\":\"#2a3f5f\",\"arrowhead\":0,\"arrowwidth\":1},\"geo\":{\"bgcolor\":\"white\",\"landcolor\":\"#E5ECF6\",\"subunitcolor\":\"white\",\"showland\":true,\"showlakes\":true,\"lakecolor\":\"white\"},\"title\":{\"x\":0.05},\"mapbox\":{\"style\":\"light\"}}},\"xaxis\":{\"anchor\":\"y\",\"domain\":[0.0,1.0],\"title\":{\"text\":\"sum of x\"}},\"yaxis\":{\"anchor\":\"x\",\"domain\":[0.0,1.0],\"title\":{\"text\":\"y\"}},\"legend\":{\"tracegroupgap\":0},\"margin\":{\"t\":60},\"barmode\":\"relative\"},                        {\"responsive\": true}                    ).then(function(){\n",
              "                            \n",
              "var gd = document.getElementById('323cea24-1168-4559-8d36-2cbbd98ceb6a');\n",
              "var x = new MutationObserver(function (mutations, observer) {{\n",
              "        var display = window.getComputedStyle(gd).display;\n",
              "        if (!display || display === 'none') {{\n",
              "            console.log([gd, 'removed!']);\n",
              "            Plotly.purge(gd);\n",
              "            observer.disconnect();\n",
              "        }}\n",
              "}});\n",
              "\n",
              "// Listen for the removal of the full notebook cells\n",
              "var notebookContainer = gd.closest('#notebook-container');\n",
              "if (notebookContainer) {{\n",
              "    x.observe(notebookContainer, {childList: true});\n",
              "}}\n",
              "\n",
              "// Listen for the clearing of the current output cell\n",
              "var outputEl = gd.closest('.output');\n",
              "if (outputEl) {{\n",
              "    x.observe(outputEl, {childList: true});\n",
              "}}\n",
              "\n",
              "                        })                };                            </script>        </div>\n",
              "</body>\n",
              "</html>"
            ]
          },
          "metadata": {}
        }
      ]
    },
    {
      "cell_type": "markdown",
      "source": [
        "Постройте boxplot любого признака из своего датасета.\n",
        "\n",
        "1) boxplot числовой переменной;\n",
        "\n",
        "2) boxplot числовой переменной относительно категориальный переменной;\n",
        "\n",
        "*p.s. Если у вас только один числовой признак, преобразуйте категориальный при помощи LabelEncoder (https://scikit-learn.org/stable/modules/generated/sklearn.preprocessing.LabelEncoder.html)*"
      ],
      "metadata": {
        "id": "zPsEO4m1ZWDy"
      }
    },
    {
      "cell_type": "code",
      "source": [
        "gr = plot.box(df, y = '2000')\n",
        "gr"
      ],
      "metadata": {
        "id": "ccJLh1r-Zdne",
        "colab": {
          "base_uri": "https://localhost:8080/",
          "height": 542
        },
        "outputId": "1fb7491a-ece7-4a34-f983-6d3c70552e2c"
      },
      "execution_count": 61,
      "outputs": [
        {
          "output_type": "display_data",
          "data": {
            "text/html": [
              "<html>\n",
              "<head><meta charset=\"utf-8\" /></head>\n",
              "<body>\n",
              "    <div>            <script src=\"https://cdnjs.cloudflare.com/ajax/libs/mathjax/2.7.5/MathJax.js?config=TeX-AMS-MML_SVG\"></script><script type=\"text/javascript\">if (window.MathJax && window.MathJax.Hub && window.MathJax.Hub.Config) {window.MathJax.Hub.Config({SVG: {font: \"STIX-Web\"}});}</script>                <script type=\"text/javascript\">window.PlotlyConfig = {MathJaxConfig: 'local'};</script>\n",
              "        <script charset=\"utf-8\" src=\"https://cdn.plot.ly/plotly-2.24.1.min.js\"></script>                <div id=\"fd36ea15-2f1f-4301-82ad-20d86ee94fb1\" class=\"plotly-graph-div\" style=\"height:525px; width:100%;\"></div>            <script type=\"text/javascript\">                                    window.PLOTLYENV=window.PLOTLYENV || {};                                    if (document.getElementById(\"fd36ea15-2f1f-4301-82ad-20d86ee94fb1\")) {                    Plotly.newPlot(                        \"fd36ea15-2f1f-4301-82ad-20d86ee94fb1\",                        [{\"alignmentgroup\":\"True\",\"hovertemplate\":\"2000=%{y}\\u003cextra\\u003e\\u003c\\u002fextra\\u003e\",\"legendgroup\":\"\",\"marker\":{\"color\":\"#636efa\"},\"name\":\"\",\"notched\":false,\"offsetgroup\":\"\",\"orientation\":\"v\",\"showlegend\":false,\"x0\":\" \",\"xaxis\":\"x\",\"y\":[4.9,4.6,5.4,5.1,5.2,4.2,4.2,6.4,null,5.5,5.7,4.3,3.7,4.4,5.7,4.1,6.6,4.5,3.5,4.3,null,4.7,4.3,5.8,5.8,5.2,5.6,4.0,null,4.3,6.3,5.3,3.4,4.5,4.6,null,3.0,3.4,3.7,3.7,3.4,3.3,3.2,2.8,4.1,null,3.5,4.0,2.9,2.7,2.8,4.6,2.9,4.5,3.2,2.7,3.3,null,3.3,3.0,4.6,3.6,3.7,4.1,2.7,null,3.1,4.4,3.8,2.4,3.4,3.5,null,1.7,1.0,0.8,1.2,1.2,1.6,0.6,0.8,1.5,null,1.7,1.0,1.0,0.9,0.9,0.8,1.2,1.1,0.7,0.5,0.6,null,0.8,1.0,0.9,1.2,0.8,1.0,0.7,null,0.9,1.5,1.2,1.0,0.7,0.8,null,0.5,null,null,null,null,null,null,null,null,null,null,null,null,null,null,null,null,null,null,null,null,null,null,null,null,null,null,null,null,null,null,null,null,null,null,null,null,null,null,null,null,null,null,null,null,null,null,null,null,null,null,null,null,null,null,null,null,null,null,null,null,null,null,null,null,null,null,null,null,null,null,null,null,null,null,null,null,null,null,null,null,null,null,null,null,null,null,null,null,null,null,null,null,null,null,null,null,null,null,null,null,null,null,null,null,null,null,null,null,null,null,null,null,null,null,null,null,null,null,null,null,null,null,null,null,null,null,null,null,null,null,null,null,null,null,null,null,null,null,null,null,null,null,null,null,null,null,null,null,null,null,null,null,null,null,null,null,null,null,null,null,null,null,null,null,null,null,null,null,null,null,null,null,null,null,null,null,null,null,null,null,null,null,null,null,null,null,null,null,null,null,null,null,null,null,null,null,null,null,null,null,null,null,null,null,null,null,null,null,null,null,null,null,null,null,null,null,null,null,null,null,null,null],\"y0\":\" \",\"yaxis\":\"y\",\"type\":\"box\"}],                        {\"template\":{\"data\":{\"histogram2dcontour\":[{\"type\":\"histogram2dcontour\",\"colorbar\":{\"outlinewidth\":0,\"ticks\":\"\"},\"colorscale\":[[0.0,\"#0d0887\"],[0.1111111111111111,\"#46039f\"],[0.2222222222222222,\"#7201a8\"],[0.3333333333333333,\"#9c179e\"],[0.4444444444444444,\"#bd3786\"],[0.5555555555555556,\"#d8576b\"],[0.6666666666666666,\"#ed7953\"],[0.7777777777777778,\"#fb9f3a\"],[0.8888888888888888,\"#fdca26\"],[1.0,\"#f0f921\"]]}],\"choropleth\":[{\"type\":\"choropleth\",\"colorbar\":{\"outlinewidth\":0,\"ticks\":\"\"}}],\"histogram2d\":[{\"type\":\"histogram2d\",\"colorbar\":{\"outlinewidth\":0,\"ticks\":\"\"},\"colorscale\":[[0.0,\"#0d0887\"],[0.1111111111111111,\"#46039f\"],[0.2222222222222222,\"#7201a8\"],[0.3333333333333333,\"#9c179e\"],[0.4444444444444444,\"#bd3786\"],[0.5555555555555556,\"#d8576b\"],[0.6666666666666666,\"#ed7953\"],[0.7777777777777778,\"#fb9f3a\"],[0.8888888888888888,\"#fdca26\"],[1.0,\"#f0f921\"]]}],\"heatmap\":[{\"type\":\"heatmap\",\"colorbar\":{\"outlinewidth\":0,\"ticks\":\"\"},\"colorscale\":[[0.0,\"#0d0887\"],[0.1111111111111111,\"#46039f\"],[0.2222222222222222,\"#7201a8\"],[0.3333333333333333,\"#9c179e\"],[0.4444444444444444,\"#bd3786\"],[0.5555555555555556,\"#d8576b\"],[0.6666666666666666,\"#ed7953\"],[0.7777777777777778,\"#fb9f3a\"],[0.8888888888888888,\"#fdca26\"],[1.0,\"#f0f921\"]]}],\"heatmapgl\":[{\"type\":\"heatmapgl\",\"colorbar\":{\"outlinewidth\":0,\"ticks\":\"\"},\"colorscale\":[[0.0,\"#0d0887\"],[0.1111111111111111,\"#46039f\"],[0.2222222222222222,\"#7201a8\"],[0.3333333333333333,\"#9c179e\"],[0.4444444444444444,\"#bd3786\"],[0.5555555555555556,\"#d8576b\"],[0.6666666666666666,\"#ed7953\"],[0.7777777777777778,\"#fb9f3a\"],[0.8888888888888888,\"#fdca26\"],[1.0,\"#f0f921\"]]}],\"contourcarpet\":[{\"type\":\"contourcarpet\",\"colorbar\":{\"outlinewidth\":0,\"ticks\":\"\"}}],\"contour\":[{\"type\":\"contour\",\"colorbar\":{\"outlinewidth\":0,\"ticks\":\"\"},\"colorscale\":[[0.0,\"#0d0887\"],[0.1111111111111111,\"#46039f\"],[0.2222222222222222,\"#7201a8\"],[0.3333333333333333,\"#9c179e\"],[0.4444444444444444,\"#bd3786\"],[0.5555555555555556,\"#d8576b\"],[0.6666666666666666,\"#ed7953\"],[0.7777777777777778,\"#fb9f3a\"],[0.8888888888888888,\"#fdca26\"],[1.0,\"#f0f921\"]]}],\"surface\":[{\"type\":\"surface\",\"colorbar\":{\"outlinewidth\":0,\"ticks\":\"\"},\"colorscale\":[[0.0,\"#0d0887\"],[0.1111111111111111,\"#46039f\"],[0.2222222222222222,\"#7201a8\"],[0.3333333333333333,\"#9c179e\"],[0.4444444444444444,\"#bd3786\"],[0.5555555555555556,\"#d8576b\"],[0.6666666666666666,\"#ed7953\"],[0.7777777777777778,\"#fb9f3a\"],[0.8888888888888888,\"#fdca26\"],[1.0,\"#f0f921\"]]}],\"mesh3d\":[{\"type\":\"mesh3d\",\"colorbar\":{\"outlinewidth\":0,\"ticks\":\"\"}}],\"scatter\":[{\"fillpattern\":{\"fillmode\":\"overlay\",\"size\":10,\"solidity\":0.2},\"type\":\"scatter\"}],\"parcoords\":[{\"type\":\"parcoords\",\"line\":{\"colorbar\":{\"outlinewidth\":0,\"ticks\":\"\"}}}],\"scatterpolargl\":[{\"type\":\"scatterpolargl\",\"marker\":{\"colorbar\":{\"outlinewidth\":0,\"ticks\":\"\"}}}],\"bar\":[{\"error_x\":{\"color\":\"#2a3f5f\"},\"error_y\":{\"color\":\"#2a3f5f\"},\"marker\":{\"line\":{\"color\":\"#E5ECF6\",\"width\":0.5},\"pattern\":{\"fillmode\":\"overlay\",\"size\":10,\"solidity\":0.2}},\"type\":\"bar\"}],\"scattergeo\":[{\"type\":\"scattergeo\",\"marker\":{\"colorbar\":{\"outlinewidth\":0,\"ticks\":\"\"}}}],\"scatterpolar\":[{\"type\":\"scatterpolar\",\"marker\":{\"colorbar\":{\"outlinewidth\":0,\"ticks\":\"\"}}}],\"histogram\":[{\"marker\":{\"pattern\":{\"fillmode\":\"overlay\",\"size\":10,\"solidity\":0.2}},\"type\":\"histogram\"}],\"scattergl\":[{\"type\":\"scattergl\",\"marker\":{\"colorbar\":{\"outlinewidth\":0,\"ticks\":\"\"}}}],\"scatter3d\":[{\"type\":\"scatter3d\",\"line\":{\"colorbar\":{\"outlinewidth\":0,\"ticks\":\"\"}},\"marker\":{\"colorbar\":{\"outlinewidth\":0,\"ticks\":\"\"}}}],\"scattermapbox\":[{\"type\":\"scattermapbox\",\"marker\":{\"colorbar\":{\"outlinewidth\":0,\"ticks\":\"\"}}}],\"scatterternary\":[{\"type\":\"scatterternary\",\"marker\":{\"colorbar\":{\"outlinewidth\":0,\"ticks\":\"\"}}}],\"scattercarpet\":[{\"type\":\"scattercarpet\",\"marker\":{\"colorbar\":{\"outlinewidth\":0,\"ticks\":\"\"}}}],\"carpet\":[{\"aaxis\":{\"endlinecolor\":\"#2a3f5f\",\"gridcolor\":\"white\",\"linecolor\":\"white\",\"minorgridcolor\":\"white\",\"startlinecolor\":\"#2a3f5f\"},\"baxis\":{\"endlinecolor\":\"#2a3f5f\",\"gridcolor\":\"white\",\"linecolor\":\"white\",\"minorgridcolor\":\"white\",\"startlinecolor\":\"#2a3f5f\"},\"type\":\"carpet\"}],\"table\":[{\"cells\":{\"fill\":{\"color\":\"#EBF0F8\"},\"line\":{\"color\":\"white\"}},\"header\":{\"fill\":{\"color\":\"#C8D4E3\"},\"line\":{\"color\":\"white\"}},\"type\":\"table\"}],\"barpolar\":[{\"marker\":{\"line\":{\"color\":\"#E5ECF6\",\"width\":0.5},\"pattern\":{\"fillmode\":\"overlay\",\"size\":10,\"solidity\":0.2}},\"type\":\"barpolar\"}],\"pie\":[{\"automargin\":true,\"type\":\"pie\"}]},\"layout\":{\"autotypenumbers\":\"strict\",\"colorway\":[\"#636efa\",\"#EF553B\",\"#00cc96\",\"#ab63fa\",\"#FFA15A\",\"#19d3f3\",\"#FF6692\",\"#B6E880\",\"#FF97FF\",\"#FECB52\"],\"font\":{\"color\":\"#2a3f5f\"},\"hovermode\":\"closest\",\"hoverlabel\":{\"align\":\"left\"},\"paper_bgcolor\":\"white\",\"plot_bgcolor\":\"#E5ECF6\",\"polar\":{\"bgcolor\":\"#E5ECF6\",\"angularaxis\":{\"gridcolor\":\"white\",\"linecolor\":\"white\",\"ticks\":\"\"},\"radialaxis\":{\"gridcolor\":\"white\",\"linecolor\":\"white\",\"ticks\":\"\"}},\"ternary\":{\"bgcolor\":\"#E5ECF6\",\"aaxis\":{\"gridcolor\":\"white\",\"linecolor\":\"white\",\"ticks\":\"\"},\"baxis\":{\"gridcolor\":\"white\",\"linecolor\":\"white\",\"ticks\":\"\"},\"caxis\":{\"gridcolor\":\"white\",\"linecolor\":\"white\",\"ticks\":\"\"}},\"coloraxis\":{\"colorbar\":{\"outlinewidth\":0,\"ticks\":\"\"}},\"colorscale\":{\"sequential\":[[0.0,\"#0d0887\"],[0.1111111111111111,\"#46039f\"],[0.2222222222222222,\"#7201a8\"],[0.3333333333333333,\"#9c179e\"],[0.4444444444444444,\"#bd3786\"],[0.5555555555555556,\"#d8576b\"],[0.6666666666666666,\"#ed7953\"],[0.7777777777777778,\"#fb9f3a\"],[0.8888888888888888,\"#fdca26\"],[1.0,\"#f0f921\"]],\"sequentialminus\":[[0.0,\"#0d0887\"],[0.1111111111111111,\"#46039f\"],[0.2222222222222222,\"#7201a8\"],[0.3333333333333333,\"#9c179e\"],[0.4444444444444444,\"#bd3786\"],[0.5555555555555556,\"#d8576b\"],[0.6666666666666666,\"#ed7953\"],[0.7777777777777778,\"#fb9f3a\"],[0.8888888888888888,\"#fdca26\"],[1.0,\"#f0f921\"]],\"diverging\":[[0,\"#8e0152\"],[0.1,\"#c51b7d\"],[0.2,\"#de77ae\"],[0.3,\"#f1b6da\"],[0.4,\"#fde0ef\"],[0.5,\"#f7f7f7\"],[0.6,\"#e6f5d0\"],[0.7,\"#b8e186\"],[0.8,\"#7fbc41\"],[0.9,\"#4d9221\"],[1,\"#276419\"]]},\"xaxis\":{\"gridcolor\":\"white\",\"linecolor\":\"white\",\"ticks\":\"\",\"title\":{\"standoff\":15},\"zerolinecolor\":\"white\",\"automargin\":true,\"zerolinewidth\":2},\"yaxis\":{\"gridcolor\":\"white\",\"linecolor\":\"white\",\"ticks\":\"\",\"title\":{\"standoff\":15},\"zerolinecolor\":\"white\",\"automargin\":true,\"zerolinewidth\":2},\"scene\":{\"xaxis\":{\"backgroundcolor\":\"#E5ECF6\",\"gridcolor\":\"white\",\"linecolor\":\"white\",\"showbackground\":true,\"ticks\":\"\",\"zerolinecolor\":\"white\",\"gridwidth\":2},\"yaxis\":{\"backgroundcolor\":\"#E5ECF6\",\"gridcolor\":\"white\",\"linecolor\":\"white\",\"showbackground\":true,\"ticks\":\"\",\"zerolinecolor\":\"white\",\"gridwidth\":2},\"zaxis\":{\"backgroundcolor\":\"#E5ECF6\",\"gridcolor\":\"white\",\"linecolor\":\"white\",\"showbackground\":true,\"ticks\":\"\",\"zerolinecolor\":\"white\",\"gridwidth\":2}},\"shapedefaults\":{\"line\":{\"color\":\"#2a3f5f\"}},\"annotationdefaults\":{\"arrowcolor\":\"#2a3f5f\",\"arrowhead\":0,\"arrowwidth\":1},\"geo\":{\"bgcolor\":\"white\",\"landcolor\":\"#E5ECF6\",\"subunitcolor\":\"white\",\"showland\":true,\"showlakes\":true,\"lakecolor\":\"white\"},\"title\":{\"x\":0.05},\"mapbox\":{\"style\":\"light\"}}},\"xaxis\":{\"anchor\":\"y\",\"domain\":[0.0,1.0]},\"yaxis\":{\"anchor\":\"x\",\"domain\":[0.0,1.0],\"title\":{\"text\":\"2000\"}},\"legend\":{\"tracegroupgap\":0},\"margin\":{\"t\":60},\"boxmode\":\"group\"},                        {\"responsive\": true}                    ).then(function(){\n",
              "                            \n",
              "var gd = document.getElementById('fd36ea15-2f1f-4301-82ad-20d86ee94fb1');\n",
              "var x = new MutationObserver(function (mutations, observer) {{\n",
              "        var display = window.getComputedStyle(gd).display;\n",
              "        if (!display || display === 'none') {{\n",
              "            console.log([gd, 'removed!']);\n",
              "            Plotly.purge(gd);\n",
              "            observer.disconnect();\n",
              "        }}\n",
              "}});\n",
              "\n",
              "// Listen for the removal of the full notebook cells\n",
              "var notebookContainer = gd.closest('#notebook-container');\n",
              "if (notebookContainer) {{\n",
              "    x.observe(notebookContainer, {childList: true});\n",
              "}}\n",
              "\n",
              "// Listen for the clearing of the current output cell\n",
              "var outputEl = gd.closest('.output');\n",
              "if (outputEl) {{\n",
              "    x.observe(outputEl, {childList: true});\n",
              "}}\n",
              "\n",
              "                        })                };                            </script>        </div>\n",
              "</body>\n",
              "</html>"
            ]
          },
          "metadata": {}
        }
      ]
    },
    {
      "cell_type": "code",
      "source": [
        "gr = plt.box(df, x = 'institute_type', y = '2000')\n",
        "gr.show()"
      ],
      "metadata": {
        "id": "9ZRV3jjlq9NN",
        "colab": {
          "base_uri": "https://localhost:8080/",
          "height": 542
        },
        "outputId": "748e9563-3c72-4f36-92f4-359f2dab388c"
      },
      "execution_count": 41,
      "outputs": [
        {
          "output_type": "display_data",
          "data": {
            "text/html": [
              "<html>\n",
              "<head><meta charset=\"utf-8\" /></head>\n",
              "<body>\n",
              "    <div>            <script src=\"https://cdnjs.cloudflare.com/ajax/libs/mathjax/2.7.5/MathJax.js?config=TeX-AMS-MML_SVG\"></script><script type=\"text/javascript\">if (window.MathJax && window.MathJax.Hub && window.MathJax.Hub.Config) {window.MathJax.Hub.Config({SVG: {font: \"STIX-Web\"}});}</script>                <script type=\"text/javascript\">window.PlotlyConfig = {MathJaxConfig: 'local'};</script>\n",
              "        <script charset=\"utf-8\" src=\"https://cdn.plot.ly/plotly-2.24.1.min.js\"></script>                <div id=\"b44ef836-c551-426f-9faa-d3e012e83a65\" class=\"plotly-graph-div\" style=\"height:525px; width:100%;\"></div>            <script type=\"text/javascript\">                                    window.PLOTLYENV=window.PLOTLYENV || {};                                    if (document.getElementById(\"b44ef836-c551-426f-9faa-d3e012e83a65\")) {                    Plotly.newPlot(                        \"b44ef836-c551-426f-9faa-d3e012e83a65\",                        [{\"alignmentgroup\":\"True\",\"hovertemplate\":\"institute_type=%{x}\\u003cbr\\u003e2000=%{y}\\u003cextra\\u003e\\u003c\\u002fextra\\u003e\",\"legendgroup\":\"\",\"marker\":{\"color\":\"#636efa\"},\"name\":\"\",\"notched\":false,\"offsetgroup\":\"\",\"orientation\":\"v\",\"showlegend\":false,\"x\":[\"All Institutions \",\"All Institutions \",\"All Institutions \",\"All Institutions \",\"All Institutions \",\"All Institutions \",\"All Institutions \",\"All Institutions \",\"All Institutions \",\"All Institutions \",\"All Institutions \",\"All Institutions \",\"All Institutions \",\"All Institutions \",\"All Institutions \",\"All Institutions \",\"All Institutions \",\"All Institutions \",\"All Institutions \",\"All Institutions \",\"All Institutions \",\"All Institutions \",\"All Institutions \",\"All Institutions \",\"All Institutions \",\"All Institutions \",\"All Institutions \",\"All Institutions \",\"All Institutions \",\"All Institutions \",\"All Institutions \",\"All Institutions \",\"All Institutions \",\"All Institutions \",\"All Institutions \",\"All Institutions \",\"All Institutions \",\"Elementary and Secondary Institutions \",\"Elementary and Secondary Institutions \",\"Elementary and Secondary Institutions \",\"Elementary and Secondary Institutions \",\"Elementary and Secondary Institutions \",\"Elementary and Secondary Institutions \",\"Elementary and Secondary Institutions \",\"Elementary and Secondary Institutions \",\"Elementary and Secondary Institutions \",\"Elementary and Secondary Institutions \",\"Elementary and Secondary Institutions \",\"Elementary and Secondary Institutions \",\"Elementary and Secondary Institutions \",\"Elementary and Secondary Institutions \",\"Elementary and Secondary Institutions \",\"Elementary and Secondary Institutions \",\"Elementary and Secondary Institutions \",\"Elementary and Secondary Institutions \",\"Elementary and Secondary Institutions \",\"Elementary and Secondary Institutions \",\"Elementary and Secondary Institutions \",\"Elementary and Secondary Institutions \",\"Elementary and Secondary Institutions \",\"Elementary and Secondary Institutions \",\"Elementary and Secondary Institutions \",\"Elementary and Secondary Institutions \",\"Elementary and Secondary Institutions \",\"Elementary and Secondary Institutions \",\"Elementary and Secondary Institutions \",\"Elementary and Secondary Institutions \",\"Elementary and Secondary Institutions \",\"Elementary and Secondary Institutions \",\"Elementary and Secondary Institutions \",\"Elementary and Secondary Institutions \",\"Elementary and Secondary Institutions \",\"Elementary and Secondary Institutions \",\"Elementary and Secondary Institutions \",\"Higher Education Institutions \",\"Higher Education Institutions \",\"Higher Education Institutions \",\"Higher Education Institutions \",\"Higher Education Institutions \",\"Higher Education Institutions \",\"Higher Education Institutions \",\"Higher Education Institutions \",\"Higher Education Institutions \",\"Higher Education Institutions \",\"Higher Education Institutions \",\"Higher Education Institutions \",\"Higher Education Institutions \",\"Higher Education Institutions \",\"Higher Education Institutions \",\"Higher Education Institutions \",\"Higher Education Institutions \",\"Higher Education Institutions \",\"Higher Education Institutions \",\"Higher Education Institutions \",\"Higher Education Institutions \",\"Higher Education Institutions \",\"Higher Education Institutions \",\"Higher Education Institutions \",\"Higher Education Institutions \",\"Higher Education Institutions \",\"Higher Education Institutions \",\"Higher Education Institutions \",\"Higher Education Institutions \",\"Higher Education Institutions \",\"Higher Education Institutions \",\"Higher Education Institutions \",\"Higher Education Institutions \",\"Higher Education Institutions \",\"Higher Education Institutions \",\"Higher Education Institutions \",\"Higher Education Institutions \",\"All Institutions \",\"All Institutions \",\"All Institutions \",\"All Institutions \",\"All Institutions \",\"All Institutions \",\"All Institutions \",\"All Institutions \",\"All Institutions \",\"All Institutions \",\"All Institutions \",\"All Institutions \",\"All Institutions \",\"All Institutions \",\"All Institutions \",\"All Institutions \",\"All Institutions \",\"All Institutions \",\"All Institutions \",\"All Institutions \",\"All Institutions \",\"All Institutions \",\"All Institutions \",\"All Institutions \",\"All Institutions \",\"All Institutions \",\"All Institutions \",\"All Institutions \",\"All Institutions \",\"All Institutions \",\"All Institutions \",\"All Institutions \",\"All Institutions \",\"All Institutions \",\"All Institutions \",\"All Institutions \",\"All Institutions \",\"Elementary and Secondary Institutions \",\"Elementary and Secondary Institutions \",\"Elementary and Secondary Institutions \",\"Elementary and Secondary Institutions \",\"Elementary and Secondary Institutions \",\"Elementary and Secondary Institutions \",\"Elementary and Secondary Institutions \",\"Elementary and Secondary Institutions \",\"Elementary and Secondary Institutions \",\"Elementary and Secondary Institutions \",\"Elementary and Secondary Institutions \",\"Elementary and Secondary Institutions \",\"Elementary and Secondary Institutions \",\"Elementary and Secondary Institutions \",\"Elementary and Secondary Institutions \",\"Elementary and Secondary Institutions \",\"Elementary and Secondary Institutions \",\"Elementary and Secondary Institutions \",\"Elementary and Secondary Institutions \",\"Elementary and Secondary Institutions \",\"Elementary and Secondary Institutions \",\"Elementary and Secondary Institutions \",\"Elementary and Secondary Institutions \",\"Elementary and Secondary Institutions \",\"Elementary and Secondary Institutions \",\"Elementary and Secondary Institutions \",\"Elementary and Secondary Institutions \",\"Elementary and Secondary Institutions \",\"Elementary and Secondary Institutions \",\"Elementary and Secondary Institutions \",\"Elementary and Secondary Institutions \",\"Elementary and Secondary Institutions \",\"Elementary and Secondary Institutions \",\"Elementary and Secondary Institutions \",\"Elementary and Secondary Institutions \",\"Elementary and Secondary Institutions \",\"Elementary and Secondary Institutions \",\"Higher Education Institutions \",\"Higher Education Institutions \",\"Higher Education Institutions \",\"Higher Education Institutions \",\"Higher Education Institutions \",\"Higher Education Institutions \",\"Higher Education Institutions \",\"Higher Education Institutions \",\"Higher Education Institutions \",\"Higher Education Institutions \",\"Higher Education Institutions \",\"Higher Education Institutions \",\"Higher Education Institutions \",\"Higher Education Institutions \",\"Higher Education Institutions \",\"Higher Education Institutions \",\"Higher Education Institutions \",\"Higher Education Institutions \",\"Higher Education Institutions \",\"Higher Education Institutions \",\"Higher Education Institutions \",\"Higher Education Institutions \",\"Higher Education Institutions \",\"Higher Education Institutions \",\"Higher Education Institutions \",\"Higher Education Institutions \",\"Higher Education Institutions \",\"Higher Education Institutions \",\"Higher Education Institutions \",\"Higher Education Institutions \",\"Higher Education Institutions \",\"Higher Education Institutions \",\"Higher Education Institutions \",\"Higher Education Institutions \",\"Higher Education Institutions \",\"Higher Education Institutions \",\"Higher Education Institutions \",\"All Institutions \",\"All Institutions \",\"All Institutions \",\"All Institutions \",\"All Institutions \",\"All Institutions \",\"All Institutions \",\"All Institutions \",\"All Institutions \",\"All Institutions \",\"All Institutions \",\"All Institutions \",\"All Institutions \",\"All Institutions \",\"All Institutions \",\"All Institutions \",\"All Institutions \",\"All Institutions \",\"All Institutions \",\"All Institutions \",\"All Institutions \",\"All Institutions \",\"All Institutions \",\"All Institutions \",\"All Institutions \",\"All Institutions \",\"All Institutions \",\"All Institutions \",\"All Institutions \",\"All Institutions \",\"All Institutions \",\"All Institutions \",\"All Institutions \",\"All Institutions \",\"All Institutions \",\"All Institutions \",\"All Institutions \",\"Elementary and Secondary Institutions \",\"Elementary and Secondary Institutions \",\"Elementary and Secondary Institutions \",\"Elementary and Secondary Institutions \",\"Elementary and Secondary Institutions \",\"Elementary and Secondary Institutions \",\"Elementary and Secondary Institutions \",\"Elementary and Secondary Institutions \",\"Elementary and Secondary Institutions \",\"Elementary and Secondary Institutions \",\"Elementary and Secondary Institutions \",\"Elementary and Secondary Institutions \",\"Elementary and Secondary Institutions \",\"Elementary and Secondary Institutions \",\"Elementary and Secondary Institutions \",\"Elementary and Secondary Institutions \",\"Elementary and Secondary Institutions \",\"Elementary and Secondary Institutions \",\"Elementary and Secondary Institutions \",\"Elementary and Secondary Institutions \",\"Elementary and Secondary Institutions \",\"Elementary and Secondary Institutions \",\"Elementary and Secondary Institutions \",\"Elementary and Secondary Institutions \",\"Elementary and Secondary Institutions \",\"Elementary and Secondary Institutions \",\"Elementary and Secondary Institutions \",\"Elementary and Secondary Institutions \",\"Elementary and Secondary Institutions \",\"Elementary and Secondary Institutions \",\"Elementary and Secondary Institutions \",\"Elementary and Secondary Institutions \",\"Elementary and Secondary Institutions \",\"Elementary and Secondary Institutions \",\"Elementary and Secondary Institutions \",\"Elementary and Secondary Institutions \",\"Elementary and Secondary Institutions \",\"Higher Education Institutions \",\"Higher Education Institutions \",\"Higher Education Institutions \",\"Higher Education Institutions \",\"Higher Education Institutions \",\"Higher Education Institutions \",\"Higher Education Institutions \",\"Higher Education Institutions \",\"Higher Education Institutions \",\"Higher Education Institutions \",\"Higher Education Institutions \",\"Higher Education Institutions \",\"Higher Education Institutions \",\"Higher Education Institutions \",\"Higher Education Institutions \",\"Higher Education Institutions \",\"Higher Education Institutions \",\"Higher Education Institutions \",\"Higher Education Institutions \",\"Higher Education Institutions \",\"Higher Education Institutions \",\"Higher Education Institutions \",\"Higher Education Institutions \",\"Higher Education Institutions \",\"Higher Education Institutions \",\"Higher Education Institutions \",\"Higher Education Institutions \",\"Higher Education Institutions \",\"Higher Education Institutions \",\"Higher Education Institutions \",\"Higher Education Institutions \",\"Higher Education Institutions \",\"Higher Education Institutions \",\"Higher Education Institutions \",\"Higher Education Institutions \",\"Higher Education Institutions \",\"Higher Education Institutions \"],\"x0\":\" \",\"xaxis\":\"x\",\"y\":[4.9,4.6,5.4,5.1,5.2,4.2,4.2,6.4,null,5.5,5.7,4.3,3.7,4.4,5.7,4.1,6.6,4.5,3.5,4.3,null,4.7,4.3,5.8,5.8,5.2,5.6,4.0,null,4.3,6.3,5.3,3.4,4.5,4.6,null,3.0,3.4,3.7,3.7,3.4,3.3,3.2,2.8,4.1,null,3.5,4.0,2.9,2.7,2.8,4.6,2.9,4.5,3.2,2.7,3.3,null,3.3,3.0,4.6,3.6,3.7,4.1,2.7,null,3.1,4.4,3.8,2.4,3.4,3.5,null,1.7,1.0,0.8,1.2,1.2,1.6,0.6,0.8,1.5,null,1.7,1.0,1.0,0.9,0.9,0.8,1.2,1.1,0.7,0.5,0.6,null,0.8,1.0,0.9,1.2,0.8,1.0,0.7,null,0.9,1.5,1.2,1.0,0.7,0.8,null,0.5,null,null,null,null,null,null,null,null,null,null,null,null,null,null,null,null,null,null,null,null,null,null,null,null,null,null,null,null,null,null,null,null,null,null,null,null,null,null,null,null,null,null,null,null,null,null,null,null,null,null,null,null,null,null,null,null,null,null,null,null,null,null,null,null,null,null,null,null,null,null,null,null,null,null,null,null,null,null,null,null,null,null,null,null,null,null,null,null,null,null,null,null,null,null,null,null,null,null,null,null,null,null,null,null,null,null,null,null,null,null,null,null,null,null,null,null,null,null,null,null,null,null,null,null,null,null,null,null,null,null,null,null,null,null,null,null,null,null,null,null,null,null,null,null,null,null,null,null,null,null,null,null,null,null,null,null,null,null,null,null,null,null,null,null,null,null,null,null,null,null,null,null,null,null,null,null,null,null,null,null,null,null,null,null,null,null,null,null,null,null,null,null,null,null,null,null,null,null,null,null,null,null,null,null,null,null,null,null,null,null,null,null,null,null,null,null,null,null,null,null,null,null],\"y0\":\" \",\"yaxis\":\"y\",\"type\":\"box\"}],                        {\"template\":{\"data\":{\"histogram2dcontour\":[{\"type\":\"histogram2dcontour\",\"colorbar\":{\"outlinewidth\":0,\"ticks\":\"\"},\"colorscale\":[[0.0,\"#0d0887\"],[0.1111111111111111,\"#46039f\"],[0.2222222222222222,\"#7201a8\"],[0.3333333333333333,\"#9c179e\"],[0.4444444444444444,\"#bd3786\"],[0.5555555555555556,\"#d8576b\"],[0.6666666666666666,\"#ed7953\"],[0.7777777777777778,\"#fb9f3a\"],[0.8888888888888888,\"#fdca26\"],[1.0,\"#f0f921\"]]}],\"choropleth\":[{\"type\":\"choropleth\",\"colorbar\":{\"outlinewidth\":0,\"ticks\":\"\"}}],\"histogram2d\":[{\"type\":\"histogram2d\",\"colorbar\":{\"outlinewidth\":0,\"ticks\":\"\"},\"colorscale\":[[0.0,\"#0d0887\"],[0.1111111111111111,\"#46039f\"],[0.2222222222222222,\"#7201a8\"],[0.3333333333333333,\"#9c179e\"],[0.4444444444444444,\"#bd3786\"],[0.5555555555555556,\"#d8576b\"],[0.6666666666666666,\"#ed7953\"],[0.7777777777777778,\"#fb9f3a\"],[0.8888888888888888,\"#fdca26\"],[1.0,\"#f0f921\"]]}],\"heatmap\":[{\"type\":\"heatmap\",\"colorbar\":{\"outlinewidth\":0,\"ticks\":\"\"},\"colorscale\":[[0.0,\"#0d0887\"],[0.1111111111111111,\"#46039f\"],[0.2222222222222222,\"#7201a8\"],[0.3333333333333333,\"#9c179e\"],[0.4444444444444444,\"#bd3786\"],[0.5555555555555556,\"#d8576b\"],[0.6666666666666666,\"#ed7953\"],[0.7777777777777778,\"#fb9f3a\"],[0.8888888888888888,\"#fdca26\"],[1.0,\"#f0f921\"]]}],\"heatmapgl\":[{\"type\":\"heatmapgl\",\"colorbar\":{\"outlinewidth\":0,\"ticks\":\"\"},\"colorscale\":[[0.0,\"#0d0887\"],[0.1111111111111111,\"#46039f\"],[0.2222222222222222,\"#7201a8\"],[0.3333333333333333,\"#9c179e\"],[0.4444444444444444,\"#bd3786\"],[0.5555555555555556,\"#d8576b\"],[0.6666666666666666,\"#ed7953\"],[0.7777777777777778,\"#fb9f3a\"],[0.8888888888888888,\"#fdca26\"],[1.0,\"#f0f921\"]]}],\"contourcarpet\":[{\"type\":\"contourcarpet\",\"colorbar\":{\"outlinewidth\":0,\"ticks\":\"\"}}],\"contour\":[{\"type\":\"contour\",\"colorbar\":{\"outlinewidth\":0,\"ticks\":\"\"},\"colorscale\":[[0.0,\"#0d0887\"],[0.1111111111111111,\"#46039f\"],[0.2222222222222222,\"#7201a8\"],[0.3333333333333333,\"#9c179e\"],[0.4444444444444444,\"#bd3786\"],[0.5555555555555556,\"#d8576b\"],[0.6666666666666666,\"#ed7953\"],[0.7777777777777778,\"#fb9f3a\"],[0.8888888888888888,\"#fdca26\"],[1.0,\"#f0f921\"]]}],\"surface\":[{\"type\":\"surface\",\"colorbar\":{\"outlinewidth\":0,\"ticks\":\"\"},\"colorscale\":[[0.0,\"#0d0887\"],[0.1111111111111111,\"#46039f\"],[0.2222222222222222,\"#7201a8\"],[0.3333333333333333,\"#9c179e\"],[0.4444444444444444,\"#bd3786\"],[0.5555555555555556,\"#d8576b\"],[0.6666666666666666,\"#ed7953\"],[0.7777777777777778,\"#fb9f3a\"],[0.8888888888888888,\"#fdca26\"],[1.0,\"#f0f921\"]]}],\"mesh3d\":[{\"type\":\"mesh3d\",\"colorbar\":{\"outlinewidth\":0,\"ticks\":\"\"}}],\"scatter\":[{\"fillpattern\":{\"fillmode\":\"overlay\",\"size\":10,\"solidity\":0.2},\"type\":\"scatter\"}],\"parcoords\":[{\"type\":\"parcoords\",\"line\":{\"colorbar\":{\"outlinewidth\":0,\"ticks\":\"\"}}}],\"scatterpolargl\":[{\"type\":\"scatterpolargl\",\"marker\":{\"colorbar\":{\"outlinewidth\":0,\"ticks\":\"\"}}}],\"bar\":[{\"error_x\":{\"color\":\"#2a3f5f\"},\"error_y\":{\"color\":\"#2a3f5f\"},\"marker\":{\"line\":{\"color\":\"#E5ECF6\",\"width\":0.5},\"pattern\":{\"fillmode\":\"overlay\",\"size\":10,\"solidity\":0.2}},\"type\":\"bar\"}],\"scattergeo\":[{\"type\":\"scattergeo\",\"marker\":{\"colorbar\":{\"outlinewidth\":0,\"ticks\":\"\"}}}],\"scatterpolar\":[{\"type\":\"scatterpolar\",\"marker\":{\"colorbar\":{\"outlinewidth\":0,\"ticks\":\"\"}}}],\"histogram\":[{\"marker\":{\"pattern\":{\"fillmode\":\"overlay\",\"size\":10,\"solidity\":0.2}},\"type\":\"histogram\"}],\"scattergl\":[{\"type\":\"scattergl\",\"marker\":{\"colorbar\":{\"outlinewidth\":0,\"ticks\":\"\"}}}],\"scatter3d\":[{\"type\":\"scatter3d\",\"line\":{\"colorbar\":{\"outlinewidth\":0,\"ticks\":\"\"}},\"marker\":{\"colorbar\":{\"outlinewidth\":0,\"ticks\":\"\"}}}],\"scattermapbox\":[{\"type\":\"scattermapbox\",\"marker\":{\"colorbar\":{\"outlinewidth\":0,\"ticks\":\"\"}}}],\"scatterternary\":[{\"type\":\"scatterternary\",\"marker\":{\"colorbar\":{\"outlinewidth\":0,\"ticks\":\"\"}}}],\"scattercarpet\":[{\"type\":\"scattercarpet\",\"marker\":{\"colorbar\":{\"outlinewidth\":0,\"ticks\":\"\"}}}],\"carpet\":[{\"aaxis\":{\"endlinecolor\":\"#2a3f5f\",\"gridcolor\":\"white\",\"linecolor\":\"white\",\"minorgridcolor\":\"white\",\"startlinecolor\":\"#2a3f5f\"},\"baxis\":{\"endlinecolor\":\"#2a3f5f\",\"gridcolor\":\"white\",\"linecolor\":\"white\",\"minorgridcolor\":\"white\",\"startlinecolor\":\"#2a3f5f\"},\"type\":\"carpet\"}],\"table\":[{\"cells\":{\"fill\":{\"color\":\"#EBF0F8\"},\"line\":{\"color\":\"white\"}},\"header\":{\"fill\":{\"color\":\"#C8D4E3\"},\"line\":{\"color\":\"white\"}},\"type\":\"table\"}],\"barpolar\":[{\"marker\":{\"line\":{\"color\":\"#E5ECF6\",\"width\":0.5},\"pattern\":{\"fillmode\":\"overlay\",\"size\":10,\"solidity\":0.2}},\"type\":\"barpolar\"}],\"pie\":[{\"automargin\":true,\"type\":\"pie\"}]},\"layout\":{\"autotypenumbers\":\"strict\",\"colorway\":[\"#636efa\",\"#EF553B\",\"#00cc96\",\"#ab63fa\",\"#FFA15A\",\"#19d3f3\",\"#FF6692\",\"#B6E880\",\"#FF97FF\",\"#FECB52\"],\"font\":{\"color\":\"#2a3f5f\"},\"hovermode\":\"closest\",\"hoverlabel\":{\"align\":\"left\"},\"paper_bgcolor\":\"white\",\"plot_bgcolor\":\"#E5ECF6\",\"polar\":{\"bgcolor\":\"#E5ECF6\",\"angularaxis\":{\"gridcolor\":\"white\",\"linecolor\":\"white\",\"ticks\":\"\"},\"radialaxis\":{\"gridcolor\":\"white\",\"linecolor\":\"white\",\"ticks\":\"\"}},\"ternary\":{\"bgcolor\":\"#E5ECF6\",\"aaxis\":{\"gridcolor\":\"white\",\"linecolor\":\"white\",\"ticks\":\"\"},\"baxis\":{\"gridcolor\":\"white\",\"linecolor\":\"white\",\"ticks\":\"\"},\"caxis\":{\"gridcolor\":\"white\",\"linecolor\":\"white\",\"ticks\":\"\"}},\"coloraxis\":{\"colorbar\":{\"outlinewidth\":0,\"ticks\":\"\"}},\"colorscale\":{\"sequential\":[[0.0,\"#0d0887\"],[0.1111111111111111,\"#46039f\"],[0.2222222222222222,\"#7201a8\"],[0.3333333333333333,\"#9c179e\"],[0.4444444444444444,\"#bd3786\"],[0.5555555555555556,\"#d8576b\"],[0.6666666666666666,\"#ed7953\"],[0.7777777777777778,\"#fb9f3a\"],[0.8888888888888888,\"#fdca26\"],[1.0,\"#f0f921\"]],\"sequentialminus\":[[0.0,\"#0d0887\"],[0.1111111111111111,\"#46039f\"],[0.2222222222222222,\"#7201a8\"],[0.3333333333333333,\"#9c179e\"],[0.4444444444444444,\"#bd3786\"],[0.5555555555555556,\"#d8576b\"],[0.6666666666666666,\"#ed7953\"],[0.7777777777777778,\"#fb9f3a\"],[0.8888888888888888,\"#fdca26\"],[1.0,\"#f0f921\"]],\"diverging\":[[0,\"#8e0152\"],[0.1,\"#c51b7d\"],[0.2,\"#de77ae\"],[0.3,\"#f1b6da\"],[0.4,\"#fde0ef\"],[0.5,\"#f7f7f7\"],[0.6,\"#e6f5d0\"],[0.7,\"#b8e186\"],[0.8,\"#7fbc41\"],[0.9,\"#4d9221\"],[1,\"#276419\"]]},\"xaxis\":{\"gridcolor\":\"white\",\"linecolor\":\"white\",\"ticks\":\"\",\"title\":{\"standoff\":15},\"zerolinecolor\":\"white\",\"automargin\":true,\"zerolinewidth\":2},\"yaxis\":{\"gridcolor\":\"white\",\"linecolor\":\"white\",\"ticks\":\"\",\"title\":{\"standoff\":15},\"zerolinecolor\":\"white\",\"automargin\":true,\"zerolinewidth\":2},\"scene\":{\"xaxis\":{\"backgroundcolor\":\"#E5ECF6\",\"gridcolor\":\"white\",\"linecolor\":\"white\",\"showbackground\":true,\"ticks\":\"\",\"zerolinecolor\":\"white\",\"gridwidth\":2},\"yaxis\":{\"backgroundcolor\":\"#E5ECF6\",\"gridcolor\":\"white\",\"linecolor\":\"white\",\"showbackground\":true,\"ticks\":\"\",\"zerolinecolor\":\"white\",\"gridwidth\":2},\"zaxis\":{\"backgroundcolor\":\"#E5ECF6\",\"gridcolor\":\"white\",\"linecolor\":\"white\",\"showbackground\":true,\"ticks\":\"\",\"zerolinecolor\":\"white\",\"gridwidth\":2}},\"shapedefaults\":{\"line\":{\"color\":\"#2a3f5f\"}},\"annotationdefaults\":{\"arrowcolor\":\"#2a3f5f\",\"arrowhead\":0,\"arrowwidth\":1},\"geo\":{\"bgcolor\":\"white\",\"landcolor\":\"#E5ECF6\",\"subunitcolor\":\"white\",\"showland\":true,\"showlakes\":true,\"lakecolor\":\"white\"},\"title\":{\"x\":0.05},\"mapbox\":{\"style\":\"light\"}}},\"xaxis\":{\"anchor\":\"y\",\"domain\":[0.0,1.0],\"title\":{\"text\":\"institute_type\"}},\"yaxis\":{\"anchor\":\"x\",\"domain\":[0.0,1.0],\"title\":{\"text\":\"2000\"}},\"legend\":{\"tracegroupgap\":0},\"margin\":{\"t\":60},\"boxmode\":\"group\"},                        {\"responsive\": true}                    ).then(function(){\n",
              "                            \n",
              "var gd = document.getElementById('b44ef836-c551-426f-9faa-d3e012e83a65');\n",
              "var x = new MutationObserver(function (mutations, observer) {{\n",
              "        var display = window.getComputedStyle(gd).display;\n",
              "        if (!display || display === 'none') {{\n",
              "            console.log([gd, 'removed!']);\n",
              "            Plotly.purge(gd);\n",
              "            observer.disconnect();\n",
              "        }}\n",
              "}});\n",
              "\n",
              "// Listen for the removal of the full notebook cells\n",
              "var notebookContainer = gd.closest('#notebook-container');\n",
              "if (notebookContainer) {{\n",
              "    x.observe(notebookContainer, {childList: true});\n",
              "}}\n",
              "\n",
              "// Listen for the clearing of the current output cell\n",
              "var outputEl = gd.closest('.output');\n",
              "if (outputEl) {{\n",
              "    x.observe(outputEl, {childList: true});\n",
              "}}\n",
              "\n",
              "                        })                };                            </script>        </div>\n",
              "</body>\n",
              "</html>"
            ]
          },
          "metadata": {}
        }
      ]
    },
    {
      "cell_type": "markdown",
      "source": [
        "Постройте диаграмму рассеивания для числовых признаков вашего датасета.\n",
        "\n",
        "*p.s. Если у вас только один числовой признак, преобразуйте категориальный при помощи LabelEncoder (https://scikit-learn.org/stable/modules/generated/sklearn.preprocessing.LabelEncoder.html)*"
      ],
      "metadata": {
        "id": "mj8cdITDZh53"
      }
    },
    {
      "cell_type": "code",
      "source": [
        "plt.scatter(X,Y,color='red')\n",
        "plt.show()"
      ],
      "metadata": {
        "id": "V2-ZoNUcZ_2l",
        "colab": {
          "base_uri": "https://localhost:8080/",
          "height": 430
        },
        "outputId": "9fb0eec5-74cb-426e-d604-5a5512b8e8b8"
      },
      "execution_count": 63,
      "outputs": [
        {
          "output_type": "display_data",
          "data": {
            "text/plain": [
              "<Figure size 640x480 with 1 Axes>"
            ],
            "image/png": "[encoded data removed]"
          },
          "metadata": {}
        }
      ]
    },
    {
      "cell_type": "markdown",
      "source": [
        "Постройте матрицу корреляции для двух числовых признаков вашего датасета."
      ],
      "metadata": {
        "id": "S-jG4a5SaFXS"
      }
    },
    {
      "cell_type": "code",
      "source": [
        "import seaborn as sns\n",
        "corr_matrix = df[['2000','2010']].corr()\n",
        "sns.heatmap(corr_matrix, annot=True)"
      ],
      "metadata": {
        "id": "p04Ifq_ZaOHb",
        "colab": {
          "base_uri": "https://localhost:8080/",
          "height": 452
        },
        "outputId": "3d69230b-c890-4423-8a81-fb39ec0ce8bc"
      },
      "execution_count": 68,
      "outputs": [
        {
          "output_type": "execute_result",
          "data": {
            "text/plain": [
              "<Axes: >"
            ]
          },
          "metadata": {},
          "execution_count": 68
        },
        {
          "output_type": "display_data",
          "data": {
            "text/plain": [
              "<Figure size 640x480 with 2 Axes>"
            ],
            "image/png": "[encoded data removed]"
          },
          "metadata": {}
        }
      ]
    },
    {
      "cell_type": "markdown",
      "source": [
        "Какие выводы можно сделать на основе графиков и матрицы корреляции?"
      ],
      "metadata": {
        "id": "2MVHWXICaoJ4"
      }
    },
    {
      "cell_type": "markdown",
      "source": [
        "**рейтинг 2000 года не зависит от 2010**"
      ],
      "metadata": {
        "id": "HFAFaiNzatLN"
      }
    },
    {
      "cell_type": "markdown",
      "source": [],
      "metadata": {
        "id": "vz9hoVAfO4gQ"
      }
    },
    {
      "cell_type": "markdown",
      "source": [
        "##Задание для гениев*"
      ],
      "metadata": {
        "id": "K5HCSPTPbwfJ"
      }
    },
    {
      "cell_type": "code",
      "source": [],
      "metadata": {
        "id": "aksHMCAYO4PG"
      },
      "execution_count": null,
      "outputs": []
    },
    {
      "cell_type": "markdown",
      "source": [
        "Реализовать следующие методы поиска выбросов:\n",
        "1. На основе среднего и отклонения\n",
        "2. Критерий Шовене\n",
        "3. С помощью квартилей\n",
        "4. Поиск выбросов по двум переменным\n",
        "\n",
        "[Посмотреть](http://course.omgtu.ru/wp-content/uploads/2021/04/3_%D0%92%D1%8B%D0%B1%D1%80%D0%BE%D1%81%D1%8B.pdf)\n",
        "\n",
        "P.S. в качестве возвразаемого значения методов может быть:\n",
        "1. очищенный датафрейм\n",
        "2. индексы выбросов ```df.series.index```"
      ],
      "metadata": {
        "id": "pil5bgt5b98A"
      }
    },
    {
      "cell_type": "code",
      "source": [
        "\"\"\"\n",
        "\n",
        "Ваш код здесь\n",
        "\n",
        "\"\"\""
      ],
      "metadata": {
        "id": "IXM6eoIvdCBs"
      },
      "execution_count": null,
      "outputs": []
    },
    {
      "cell_type": "markdown",
      "source": [
        "### Пример реализации одного метода"
      ],
      "metadata": {
        "id": "dRQRyxdgD_sk"
      }
    },
    {
      "cell_type": "code",
      "source": [
        "from statistics import median, mean\n",
        "\n",
        "class Outline:\n",
        "  def __init__(self, df):\n",
        "    self.df = df\n",
        "\n",
        "  def delete_outline_by_mean(self, column_name):\n",
        "    mean_data = mean(self.df[column_name])\n",
        "    maximum = mean_data * 2\n",
        "    result = []\n",
        "\n",
        "    for item in self.df[column_name]:\n",
        "      if abs(item - mean_data) < maximum:\n",
        "        result.append(item)\n",
        "\n",
        "    return result\n",
        "\n"
      ],
      "metadata": {
        "id": "lJEOQcx0vavH"
      },
      "execution_count": null,
      "outputs": []
    },
    {
      "cell_type": "code",
      "source": [
        "data = pd.DataFrame(\n",
        "    data = {\n",
        "        \"col1\": [1, 2, 3, 4, 5, 1000],\n",
        "        \"col2\": [1, 2, 3, 2, 1, 4]\n",
        "    }\n",
        ")\n",
        "\n",
        "so = Outline(data)\n",
        "so.delete_outline_by_mean(\"col1\")"
      ],
      "metadata": {
        "colab": {
          "base_uri": "https://localhost:8080/"
        },
        "id": "1EViTEon8Rkj",
        "outputId": "d1fa0b6f-a127-4d89-c2c8-9597251aaac6"
      },
      "execution_count": null,
      "outputs": [
        {
          "output_type": "execute_result",
          "data": {
            "text/plain": [
              "[1, 2, 3, 4, 5]"
            ]
          },
          "metadata": {},
          "execution_count": 39
        }
      ]
    }
  ]
}